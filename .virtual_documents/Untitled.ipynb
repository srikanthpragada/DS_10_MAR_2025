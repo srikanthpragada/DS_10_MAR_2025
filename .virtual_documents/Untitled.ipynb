print('Hello!')


for n in range(1, 11):
    print(n)



