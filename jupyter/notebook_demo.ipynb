{
 "cells": [
  {
   "cell_type": "code",
   "execution_count": 10,
   "id": "e050982b-64e1-4e6e-ac86-01e3eb8a8808",
   "metadata": {},
   "outputs": [
    {
     "name": "stdout",
     "output_type": "stream",
     "text": [
      "2025-03-12 20:09:51.594613\n"
     ]
    }
   ],
   "source": [
    "from datetime import datetime\n",
    "print(datetime.now())"
   ]
  },
  {
   "cell_type": "code",
   "execution_count": 11,
   "id": "a0701ca4-adba-4afc-996b-43288d63034a",
   "metadata": {
    "collapsed": true,
    "jupyter": {
     "outputs_hidden": true
    }
   },
   "outputs": [
    {
     "name": "stdout",
     "output_type": "stream",
     "text": [
      "1\n",
      "2\n",
      "3\n",
      "4\n",
      "5\n",
      "6\n",
      "7\n",
      "8\n",
      "9\n",
      "10\n"
     ]
    }
   ],
   "source": [
    "for n in range(1, 11):\n",
    "    print(n)"
   ]
  },
  {
   "cell_type": "raw",
   "id": "5d5923a6-2fd4-4e66-b5ab-ae1c79e864cc",
   "metadata": {},
   "source": [
    "This is a RAW cell"
   ]
  },
  {
   "cell_type": "markdown",
   "id": "a599d537-9b1d-4780-afb1-e35bafef4ef9",
   "metadata": {},
   "source": [
    "## Heading 2"
   ]
  },
  {
   "cell_type": "markdown",
   "id": "bd60d4a1-9589-4a01-a2b4-89fd03565da0",
   "metadata": {},
   "source": [
    "#### Heading 4"
   ]
  },
  {
   "cell_type": "markdown",
   "id": "21f7aadb-154a-4bc6-ad82-65a1b8ddd00d",
   "metadata": {},
   "source": [
    "Get details here : \n",
    "<a href=\"https://www.srikanthtechnologies.com\">Srikanth Technologies</a>"
   ]
  },
  {
   "cell_type": "markdown",
   "id": "e457fe6b-f131-4ea2-997e-5dfe09d4e2c8",
   "metadata": {},
   "source": [
    "**this is bold**"
   ]
  },
  {
   "cell_type": "markdown",
   "id": "6331cbe7-0d5a-4dff-90f1-bd92de605540",
   "metadata": {},
   "source": [
    "`This`"
   ]
  },
  {
   "cell_type": "markdown",
   "id": "34c41cea-ba17-4111-a4dd-6d6177b71f93",
   "metadata": {},
   "source": [
    "- Numpy\n",
    "- Pandas\n",
    "- Graphs\n",
    "    - Seaborn\n",
    "    - Matplotlib"
   ]
  },
  {
   "cell_type": "markdown",
   "id": "16ee0dba-d565-4911-9bcf-e86243c6bfd3",
   "metadata": {},
   "source": [
    "1. Classification\n",
    "1. Regression\n",
    "2. Clustering"
   ]
  },
  {
   "cell_type": "markdown",
   "id": "6af6890d-b804-46a9-9a23-9b0f9e6f09e4",
   "metadata": {},
   "source": [
    "<div class=\"alert alert-block alert-info\">\n",
    "    This is alert box\n",
    "</div>"
   ]
  },
  {
   "cell_type": "code",
   "execution_count": 35,
   "id": "e5d6c9aa-50ff-4aad-907d-0e653a061f29",
   "metadata": {},
   "outputs": [
    {
     "name": "stdout",
     "output_type": "stream",
     "text": [
      " Volume in drive C is OS\n",
      " Volume Serial Number is D874-1F97\n",
      "\n",
      " Directory of C:\\classroom\\mar10\n",
      "\n",
      "13-03-2025  20:01    <DIR>          .\n",
      "13-03-2025  20:01    <DIR>          ..\n",
      "12-03-2025  16:52             3,617 .gitignore\n",
      "12-03-2025  20:37    <DIR>          .ipynb_checkpoints\n",
      "12-03-2025  20:03    <DIR>          .virtual_documents\n",
      "12-03-2025  20:47             1,054 commands.py\n",
      "12-03-2025  20:38                27 names.txt\n",
      "13-03-2025  20:01             9,492 notebook_demo.ipynb\n",
      "12-03-2025  16:53               171 upload.bat\n",
      "               5 File(s)         14,361 bytes\n",
      "               4 Dir(s)  334,511,198,208 bytes free\n"
     ]
    }
   ],
   "source": [
    "!dir"
   ]
  },
  {
   "cell_type": "code",
   "execution_count": 17,
   "id": "6e2d9415-83bb-4943-93d6-8ff72d99429d",
   "metadata": {},
   "outputs": [
    {
     "name": "stdout",
     "output_type": "stream",
     "text": [
      "James\n",
      "Steve\n",
      "Mark\n",
      "Larry\n",
      "Ben\n"
     ]
    }
   ],
   "source": [
    "!type names.txt"
   ]
  },
  {
   "cell_type": "code",
   "execution_count": 18,
   "id": "529c921f-f70d-4876-a334-92acf89346af",
   "metadata": {},
   "outputs": [],
   "source": [
    "names = !type names.txt"
   ]
  },
  {
   "cell_type": "code",
   "execution_count": 19,
   "id": "d241d0bd-c88a-4e61-880b-1c700ae5d093",
   "metadata": {},
   "outputs": [
    {
     "data": {
      "text/plain": [
       "['James', 'Steve', 'Mark', 'Larry', 'Ben']"
      ]
     },
     "execution_count": 19,
     "metadata": {},
     "output_type": "execute_result"
    }
   ],
   "source": [
    "names"
   ]
  },
  {
   "cell_type": "code",
   "execution_count": 20,
   "id": "ba54d779-7194-4ec4-910c-c1580a5d937d",
   "metadata": {},
   "outputs": [
    {
     "name": "stdout",
     "output_type": "stream",
     "text": [
      " Volume in drive C is OS\n",
      " Volume Serial Number is D874-1F97\n",
      "\n",
      " Directory of C:\\classroom\\mar10\n",
      "\n",
      "12-03-2025  20:40             5,023 notebook_demo.ipynb\n",
      "               1 File(s)          5,023 bytes\n",
      "               0 Dir(s)  339,697,225,728 bytes free\n"
     ]
    }
   ],
   "source": [
    "ext = \"*.ipynb\"\n",
    "!dir {ext}"
   ]
  },
  {
   "cell_type": "code",
   "execution_count": 22,
   "id": "5dd98089-c94a-4ef2-b8bd-8b09efb9c890",
   "metadata": {},
   "outputs": [],
   "source": [
    "libs = !pip list"
   ]
  },
  {
   "cell_type": "code",
   "execution_count": 25,
   "id": "51cc53bf-cef4-4b04-808c-af99283366c7",
   "metadata": {},
   "outputs": [
    {
     "data": {
      "text/plain": [
       "369"
      ]
     },
     "execution_count": 25,
     "metadata": {},
     "output_type": "execute_result"
    }
   ],
   "source": [
    "len(libs)"
   ]
  },
  {
   "cell_type": "markdown",
   "id": "fd2b4626-eb8b-4dd3-8037-72d9d3e3c604",
   "metadata": {},
   "source": [
    "## Magic Functions"
   ]
  },
  {
   "cell_type": "code",
   "execution_count": 26,
   "id": "f9a5dbca-e98e-4ab9-a2b4-54ed62f18bc7",
   "metadata": {},
   "outputs": [
    {
     "data": {
      "text/plain": [
       "'C:\\\\classroom\\\\mar10'"
      ]
     },
     "execution_count": 26,
     "metadata": {},
     "output_type": "execute_result"
    }
   ],
   "source": [
    "%pwd"
   ]
  },
  {
   "cell_type": "code",
   "execution_count": 30,
   "id": "01ed6399-182e-40b0-9f15-e908181a1e55",
   "metadata": {
    "collapsed": true,
    "jupyter": {
     "outputs_hidden": true
    }
   },
   "outputs": [
    {
     "name": "stdout",
     "output_type": "stream",
     "text": [
      "The following commands were written to file `commands.py`:\n",
      "for n in range(1, 11):\n",
      "    print(n)\n",
      "print('Hello!')\n",
      "print('Hello!')\n",
      "print('Hello!')\n",
      "print('Hello!')\n",
      "print('Hello!')\n",
      "from datetime import datetime\n",
      "print(datetime.now())\n",
      "from datetime import datetime\n",
      "print(datetime.now())\n",
      "from datetime import datetime\n",
      "print(datetime.now())\n",
      "from datetime import datetime\n",
      "print(datetime.now())\n",
      "for n in range(1, 11):\n",
      "    print(n)\n",
      "datetime.today()\n",
      "get_ipython().run_line_magic('pinfo', 'datetime.strptime')\n",
      "get_ipython().run_line_magic('pinfo', 'datetime.strptime')\n",
      "get_ipython().system('dir')\n",
      "get_ipython().system('type names.txt')\n",
      "get_ipython().system('type names.txt')\n",
      "names = get_ipython().getoutput('type names.txt')\n",
      "names\n",
      "ext = \"*.ipynb\"\n",
      "get_ipython().system('dir {ext}')\n",
      "get_ipython().system('pip list')\n",
      "libs = get_ipython().getoutput('pip list')\n",
      "type(libs)\n",
      "libs\n",
      "len(libs)\n",
      "get_ipython().run_line_magic('pwd', '')\n",
      "get_ipython().run_line_magic('history', '')\n",
      "get_ipython().run_line_magic('save', \"'commands.txt'\")\n",
      "get_ipython().run_line_magic('save', 'commands.txt')\n"
     ]
    }
   ],
   "source": [
    "%save commands"
   ]
  },
  {
   "cell_type": "code",
   "execution_count": 31,
   "id": "e7186797-d765-494c-984f-e46c988e39d0",
   "metadata": {},
   "outputs": [
    {
     "data": {
      "text/html": [
       "<h1>First </h1>\n",
       "<div>Div </div>\n"
      ],
      "text/plain": [
       "<IPython.core.display.HTML object>"
      ]
     },
     "metadata": {},
     "output_type": "display_data"
    }
   ],
   "source": [
    "%%html\n",
    "<h1>First </h1>\n",
    "<div>Div </div>"
   ]
  },
  {
   "cell_type": "code",
   "execution_count": 33,
   "id": "3aebb8bb-87c4-4f4a-893d-f604d8ba9a2e",
   "metadata": {},
   "outputs": [
    {
     "data": {
      "application/javascript": [
       "alert(new Date())\n"
      ],
      "text/plain": [
       "<IPython.core.display.Javascript object>"
      ]
     },
     "metadata": {},
     "output_type": "display_data"
    }
   ],
   "source": [
    "%%js\n",
    "alert(new Date())"
   ]
  },
  {
   "cell_type": "code",
   "execution_count": 36,
   "id": "781402af-253b-4afe-b8fd-26c6a30a047a",
   "metadata": {
    "collapsed": true,
    "jupyter": {
     "outputs_hidden": true
    },
    "scrolled": true
   },
   "outputs": [
    {
     "name": "stdout",
     "output_type": "stream",
     "text": [
      "for n in range(1, 11):\n",
      "    print(n)\n",
      "print('Hello!')\n",
      "print('Hello!')\n",
      "print('Hello!')\n",
      "print('Hello!')\n",
      "print('Hello!')\n",
      "from datetime import datetime\n",
      "print(datetime.now())\n",
      "from datetime import datetime\n",
      "print(datetime.now())\n",
      "from datetime import datetime\n",
      "print(datetime.now())\n",
      "from datetime import datetime\n",
      "print(datetime.now())\n",
      "for n in range(1, 11):\n",
      "    print(n)\n",
      "datetime.today()\n",
      "datetime.strptime?\n",
      "datetime.strptime?\n",
      "!dir\n",
      "!type names.txt\n",
      "!type names.txt\n",
      "names = !type names.txt\n",
      "names\n",
      "ext = \"*.ipynb\"\n",
      "!dir {ext}\n",
      "!pip list\n",
      "libs = !pip list\n",
      "type(libs)\n",
      "libs\n",
      "len(libs)\n",
      "%pwd\n",
      "%history\n",
      "%save 'commands.txt'\n",
      "%save commands.txt\n",
      "%save commands\n",
      "%%html\n",
      "<h1>First </h1>\n",
      "<div>Div </div>\n",
      "%%js\n",
      "console.log(new Date())\n",
      "%%js\n",
      "alert(new Date())\n",
      "!dir\n",
      "!dir\n",
      "%history\n"
     ]
    }
   ],
   "source": [
    "%history"
   ]
  },
  {
   "cell_type": "code",
   "execution_count": 37,
   "id": "b06836ae-52a1-4d08-9b80-38823476cf8f",
   "metadata": {},
   "outputs": [
    {
     "name": "stdout",
     "output_type": "stream",
     "text": [
      "Writing test.txt\n"
     ]
    }
   ],
   "source": [
    "%%writefile test.txt\n",
    "This is first line\n",
    "This is second line"
   ]
  },
  {
   "cell_type": "code",
   "execution_count": 38,
   "id": "9aa6642a-b85d-479b-8d4c-66b8be6eb977",
   "metadata": {},
   "outputs": [],
   "source": [
    "%%capture output\n",
    "for n in range(1, 10):\n",
    "    print(n, end = ' ')"
   ]
  },
  {
   "cell_type": "code",
   "execution_count": 39,
   "id": "d3f3c79b-50f3-4ea2-8949-f87425393de7",
   "metadata": {},
   "outputs": [
    {
     "data": {
      "text/plain": [
       "'1 2 3 4 5 6 7 8 9 '"
      ]
     },
     "execution_count": 39,
     "metadata": {},
     "output_type": "execute_result"
    }
   ],
   "source": [
    "output.stdout"
   ]
  },
  {
   "cell_type": "code",
   "execution_count": null,
   "id": "9db155c3-d46a-4894-bca6-b6436c07c9d2",
   "metadata": {},
   "outputs": [],
   "source": []
  }
 ],
 "metadata": {
  "kernelspec": {
   "display_name": "Python 3 (ipykernel)",
   "language": "python",
   "name": "python3"
  },
  "language_info": {
   "codemirror_mode": {
    "name": "ipython",
    "version": 3
   },
   "file_extension": ".py",
   "mimetype": "text/x-python",
   "name": "python",
   "nbconvert_exporter": "python",
   "pygments_lexer": "ipython3",
   "version": "3.12.7"
  }
 },
 "nbformat": 4,
 "nbformat_minor": 5
}
